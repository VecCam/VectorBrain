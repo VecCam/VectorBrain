{
 "cells": [
  {
   "cell_type": "code",
   "execution_count": 1,
   "metadata": {},
   "outputs": [],
   "source": [
    "import pandas as pd\n",
    "import requests\n",
    "import io\n",
    "import random\n",
    "import os\n",
    "from utils import download_image, download_data_export, save_image, pad_image\n",
    "from PIL import Image\n",
    "from tqdm import tqdm\n",
    "from threading import Thread, Event\n",
    "from queue import Queue\n"
   ]
  },
  {
   "cell_type": "code",
   "execution_count": 2,
   "metadata": {},
   "outputs": [],
   "source": [
    "IMAGES_DIR = \"./images\"\n",
    "BEFORE_PADDING_DIR = f\"{IMAGES_DIR}/before_padding_cropped/\"\n",
    "AFTER_PADDING_DIR = f\"{IMAGES_DIR}/after_padding_cropped/\"\n",
    "FULL_IMAGES_DIR = f\"{IMAGES_DIR}/full_images/\"\n",
    "\n",
    "# Create directories if they don't exist\n",
    "for directory in [IMAGES_DIR, BEFORE_PADDING_DIR, AFTER_PADDING_DIR, FULL_IMAGES_DIR]:\n",
    "    os.makedirs(directory, exist_ok=True)"
   ]
  },
  {
   "cell_type": "code",
   "execution_count": 3,
   "metadata": {},
   "outputs": [],
   "source": [
    "def pad_worker(pad_queue, download_done_event, read_path, save_path):\n",
    "    while not download_done_event.is_set() or not pad_queue.empty():\n",
    "        if not pad_queue.empty():\n",
    "            count, row = pad_queue.get()\n",
    "            name = row['specimenId_unique']\n",
    "            ind_image_path = os.path.join(read_path, f\"{name}.jpg\")\n",
    "            save_image_path = os.path.join(save_path, f\"{name}.jpg\")\n",
    "            try:\n",
    "                padded_image = pad_image(ind_image_path)\n",
    "                padded_image.save(save_image_path)\n",
    "            except Exception as e:\n",
    "                print(f\"Error padding image {count}: {e}\")\n",
    "\n",
    "\n",
    "def download_images_from_df(df, zoomed = True):\n",
    "    img_column = \"full_image\" if not zoomed else \"image\"\n",
    "    download_dir = FULL_IMAGES_DIR if not zoomed else BEFORE_PADDING_DIR\n",
    "    download_done_event = Event()\n",
    "    pad_queue = Queue()\n",
    "    pad_thread = Thread(target=pad_worker, args=(pad_queue, download_done_event, download_dir, AFTER_PADDING_DIR))\n",
    "    pad_thread.start()\n",
    "    for idx, row in tqdm(df.iterrows(), total=len(df), desc=\"Downloading images...\"):\n",
    "        image_url = row[img_column]\n",
    "        specimen_id = row['specimenId_unique']\n",
    "        file_name = f\"{download_dir}/{specimen_id}.jpg\"\n",
    "        if os.path.exists(file_name):\n",
    "            continue\n",
    "        content = download_image(image_url)\n",
    "        save_image(content, file_name)\n",
    "        if zoomed:\n",
    "            pad_queue.put((idx, row))\n",
    "    download_done_event.set()\n",
    "    pad_thread.join()\n"
   ]
  },
  {
   "attachments": {},
   "cell_type": "markdown",
   "metadata": {},
   "source": [
    "### Download database export as a csv file"
   ]
  },
  {
   "cell_type": "code",
   "execution_count": 5,
   "metadata": {},
   "outputs": [
    {
     "name": "stdout",
     "output_type": "stream",
     "text": [
      "Saved 10522 rows to cleaned_export.csv\n"
     ]
    }
   ],
   "source": [
    "success, df = download_data_export('cleaned_export.csv')\n",
    "if not success:\n",
    "    raise Exception(\"No data downloaded, check your credentials in .env file\")"
   ]
  },
  {
   "attachments": {},
   "cell_type": "markdown",
   "metadata": {},
   "source": [
    "### Filter for rows of interest:"
   ]
  },
  {
   "cell_type": "code",
   "execution_count": 8,
   "metadata": {},
   "outputs": [],
   "source": [
    "df = df[df['image'].notna()]\n",
    "# select last 20 rows for testing\n",
    "df = df.tail(20)"
   ]
  },
  {
   "attachments": {},
   "cell_type": "markdown",
   "metadata": {},
   "source": [
    "### Download data and save in the images folder"
   ]
  },
  {
   "cell_type": "code",
   "execution_count": 9,
   "metadata": {},
   "outputs": [
    {
     "name": "stderr",
     "output_type": "stream",
     "text": [
      "Downloading images...: 100%|██████████| 20/20 [00:17<00:00,  1.17it/s]\n"
     ]
    }
   ],
   "source": [
    "download_images_from_df(df, zoomed=True)\n"
   ]
  },
  {
   "cell_type": "code",
   "execution_count": null,
   "metadata": {},
   "outputs": [],
   "source": []
  }
 ],
 "metadata": {
  "kernelspec": {
   "display_name": "Python 3.9.12 ('base')",
   "language": "python",
   "name": "python3"
  },
  "language_info": {
   "codemirror_mode": {
    "name": "ipython",
    "version": 3
   },
   "file_extension": ".py",
   "mimetype": "text/x-python",
   "name": "python",
   "nbconvert_exporter": "python",
   "pygments_lexer": "ipython3",
   "version": "3.9.12"
  },
  "orig_nbformat": 4,
  "vscode": {
   "interpreter": {
    "hash": "9cd3544f732bc4520593c177004321a70fa103a617e9ef66b64ca763584b4c73"
   }
  }
 },
 "nbformat": 4,
 "nbformat_minor": 2
}
